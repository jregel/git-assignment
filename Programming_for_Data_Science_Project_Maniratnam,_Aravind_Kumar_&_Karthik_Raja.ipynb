{
  "nbformat": 4,
  "nbformat_minor": 0,
  "metadata": {
    "colab": {
      "provenance": [],
      "include_colab_link": true
    },
    "kernelspec": {
      "name": "python3",
      "display_name": "Python 3"
    },
    "language_info": {
      "name": "python"
    }
  },
  "cells": [
    {
      "cell_type": "markdown",
      "metadata": {
        "id": "view-in-github",
        "colab_type": "text"
      },
      "source": [
        "<a href=\"https://colab.research.google.com/github/karthik-raja-kothandan-spt/git-assignment/blob/master/Programming_for_Data_Science_Project_Maniratnam%2C_Aravind_Kumar_%26_Karthik_Raja.ipynb\" target=\"_parent\"><img src=\"https://colab.research.google.com/assets/colab-badge.svg\" alt=\"Open In Colab\"/></a>"
      ]
    },
    {
      "cell_type": "markdown",
      "source": [
        "**Analysis on effect of Covid on Stock market**\n",
        "\n",
        "The Project was done by Maniratnam, Karthik Raja & Aravind Kumar."
      ],
      "metadata": {
        "id": "puZeAVoWpJ9f"
      }
    },
    {
      "cell_type": "code",
      "execution_count": null,
      "metadata": {
        "id": "4AxwjkdCNoxx"
      },
      "outputs": [],
      "source": [
        "import requests\n",
        "import pandas as pd\n",
        "import matplotlib.pyplot as plt\n",
        "\n",
        "cc_url = \"https://raw.githubusercontent.com/CSSEGISandData/COVID-19/master/csse_covid_19_data/csse_covid_19_time_series/time_series_covid19_confirmed_global.csv\"\n",
        "d_url = \"https://raw.githubusercontent.com/CSSEGISandData/COVID-19/master/csse_covid_19_data/csse_covid_19_time_series/time_series_covid19_deaths_global.csv\"\n",
        "\n",
        "cc_data = pd.read_csv(cc_url)\n",
        "d_data = pd.read_csv(d_url)\n",
        "\n"
      ]
    },
    {
      "cell_type": "code",
      "source": [
        "cc_data.head()"
      ],
      "metadata": {
        "id": "8YHWTs4qsrIi"
      },
      "execution_count": null,
      "outputs": []
    },
    {
      "cell_type": "code",
      "source": [
        "d_data.head()"
      ],
      "metadata": {
        "id": "OPHpYbZGtADG"
      },
      "execution_count": null,
      "outputs": []
    },
    {
      "cell_type": "code",
      "source": [
        "global_cc_df = cc_data.iloc[:, 4:].sum(axis=0)\n",
        "global_d_df = d_data.iloc[:, 4:].sum(axis=0)"
      ],
      "metadata": {
        "id": "-6nCXBGTspLE"
      },
      "execution_count": null,
      "outputs": []
    },
    {
      "cell_type": "code",
      "source": [
        "global_cc_df.head()"
      ],
      "metadata": {
        "id": "MeAxE8wRtWIs"
      },
      "execution_count": null,
      "outputs": []
    },
    {
      "cell_type": "code",
      "source": [
        "global_d_df.head()"
      ],
      "metadata": {
        "id": "2Hy4CkpktoEo"
      },
      "execution_count": null,
      "outputs": []
    },
    {
      "cell_type": "code",
      "source": [
        "global_df = pd.DataFrame({'Date': cc_data.columns[4:], 'Confirmed Cases': global_cc_df.values, 'Deaths': global_d_df.values})\n",
        "#global_data['Date'] = global_data.index\n",
        "global_df.head()"
      ],
      "metadata": {
        "id": "0me_qFYhtTBp"
      },
      "execution_count": null,
      "outputs": []
    },
    {
      "cell_type": "code",
      "source": [
        "global_df['Date'] = pd.to_datetime(global_df['Date'], format='%m/%d/%y')"
      ],
      "metadata": {
        "id": "hnDhy2icSXye"
      },
      "execution_count": null,
      "outputs": []
    },
    {
      "cell_type": "code",
      "source": [
        "global_df.to_csv('global_df.csv', index=False)"
      ],
      "metadata": {
        "id": "_QegHYReVm1T"
      },
      "execution_count": null,
      "outputs": []
    },
    {
      "cell_type": "code",
      "source": [
        "stocks_data = {}"
      ],
      "metadata": {
        "id": "iTvI_ZrB1b6c"
      },
      "execution_count": null,
      "outputs": []
    }
  ]
}